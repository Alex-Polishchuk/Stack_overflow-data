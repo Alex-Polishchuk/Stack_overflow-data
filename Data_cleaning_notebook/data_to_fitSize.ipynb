{
 "cells": [
  {
   "cell_type": "code",
   "execution_count": 1,
   "metadata": {},
   "outputs": [],
   "source": [
    "import pandas as pd"
   ]
  },
  {
   "attachments": {},
   "cell_type": "markdown",
   "metadata": {},
   "source": [
    "Read in the original survey file, it can be found [here](https://insights.stackoverflow.com/survey)"
   ]
  },
  {
   "cell_type": "code",
   "execution_count": 12,
   "metadata": {},
   "outputs": [],
   "source": [
    "df = pd.read_csv(r\"Data\\survey_results_public.csv\")"
   ]
  },
  {
   "attachments": {},
   "cell_type": "markdown",
   "metadata": {},
   "source": [
    "Drop columns so that file can meet GitHub filesize requirements, a link to the original data can be found [here](https://insights.stackoverflow.com/survey)"
   ]
  },
  {
   "cell_type": "code",
   "execution_count": 14,
   "metadata": {},
   "outputs": [
    {
     "data": {
      "text/plain": [
       "(466, 107)"
      ]
     },
     "execution_count": 14,
     "metadata": {},
     "output_type": "execute_result"
    }
   ],
   "source": [
    "#Drops values which have only null values\n",
    "df.drop(\"VHCProfessionalUse\", index=1, inplace=True)\n",
    "df.drop(\"VHCPersonalUse\", index=1, inplace=True)"
   ]
  },
  {
   "cell_type": "code",
   "execution_count": 15,
   "metadata": {},
   "outputs": [
    {
     "data": {
      "text/plain": [
       "NLC                  750\n",
       "ASC                 ABRd\n",
       "Station       Abbey Road\n",
       "Fare Zone            2/3\n",
       "Total        1712.734271\n",
       "                ...     \n",
       "0345-0400            0.0\n",
       "0400-0415            0.0\n",
       "0415-0430            0.0\n",
       "0430-0445            0.0\n",
       "0445-0500            0.0\n",
       "Name: 0, Length: 107, dtype: object"
      ]
     },
     "execution_count": 15,
     "metadata": {},
     "output_type": "execute_result"
    }
   ],
   "source": [
    "#Need to drop additional columns to fit GitHub column sizes\n",
    "df.drop(\"Trans\", axis = 1, inplace=True)\n",
    "df.drop(\"Survey_Length\", axis = 1, inplace=True) \n",
    "df.drop(\"Survey_Ease\", axis = 1, inplace=True) "
   ]
  }
 ],
 "metadata": {
  "kernelspec": {
   "display_name": "Python 3",
   "language": "python",
   "name": "python3"
  },
  "language_info": {
   "codemirror_mode": {
    "name": "ipython",
    "version": 3
   },
   "file_extension": ".py",
   "mimetype": "text/x-python",
   "name": "python",
   "nbconvert_exporter": "python",
   "pygments_lexer": "ipython3",
   "version": "3.10.11"
  },
  "orig_nbformat": 4
 },
 "nbformat": 4,
 "nbformat_minor": 2
}
